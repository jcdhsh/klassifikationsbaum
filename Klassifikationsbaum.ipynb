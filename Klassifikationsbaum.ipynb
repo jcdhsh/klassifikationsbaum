{
 "cells": [
  {
   "cell_type": "code",
   "execution_count": 5,
   "metadata": {},
   "outputs": [],
   "source": [
    "from sklearn.datasets import make_blobs\n"
   ]
  },
  {
   "cell_type": "code",
   "execution_count": 7,
   "metadata": {},
   "outputs": [
    {
     "data": {
      "text/plain": [
       "(array([[  4.2900055 ,   1.2593096 ,   0.24827196,   3.66188885,\n",
       "          -0.14446058],\n",
       "        [  1.681067  ,  -2.45863333,   2.34537436,   7.18574985,\n",
       "          -1.59087155],\n",
       "        [  4.59321328,  -0.93449785,   5.19647879,  11.32842795,\n",
       "         -16.72811976],\n",
       "        ...,\n",
       "        [ -7.93096819, -14.08186468,   5.21229594,  11.04946131,\n",
       "           5.03603886],\n",
       "        [  3.09353384,   6.03137763,   0.35870238,  11.23490864,\n",
       "         -11.08959196],\n",
       "        [-10.66713243, -12.36153503,  11.97456592,   5.64940373,\n",
       "           9.05913451]]),\n",
       " array([0, 1, 2, 0, 0, 3, 2, 0, 3, 2, 3, 3, 1, 1, 3, 0, 1, 2, 1, 2, 0, 0,\n",
       "        2, 1, 3, 0, 3, 3, 3, 1, 2, 3, 0, 1, 3, 2, 3, 2, 2, 3, 3, 3, 3, 2,\n",
       "        1, 3, 1, 3, 1, 2, 1, 2, 0, 2, 2, 2, 0, 3, 0, 3, 2, 3, 3, 1, 2, 1,\n",
       "        0, 1, 2, 2, 3, 2, 0, 2, 0, 3, 3, 1, 2, 0, 2, 0, 3, 0, 1, 0, 1, 1,\n",
       "        2, 3, 0, 3, 1, 0, 1, 0, 1, 2, 0, 3, 2, 1, 2, 3, 2, 3, 1, 1, 2, 2,\n",
       "        3, 1, 2, 2, 2, 1, 2, 3, 1, 3, 2, 1, 3, 0, 2, 3, 0, 0, 0, 0, 0, 0,\n",
       "        3, 3, 3, 3, 1, 3, 1, 3, 3, 1, 2, 1, 0, 3, 1, 0, 3, 0, 3, 2, 0, 2,\n",
       "        2, 0, 2, 3, 0, 3, 1, 2, 1, 3, 2, 2, 2, 0, 3, 0, 2, 2, 3, 1, 1, 3,\n",
       "        1, 3, 1, 3, 2, 0, 2, 0, 2, 2, 2, 1, 1, 1, 3, 0, 1, 1, 1, 3, 3, 2,\n",
       "        2, 1, 1, 3, 3, 1, 1, 1, 2, 3, 0, 3, 0, 1, 3, 0, 3, 2, 0, 2, 1, 2,\n",
       "        0, 0, 0, 1, 0, 1, 0, 3, 1, 0, 3, 3, 2, 1, 2, 2, 2, 0, 3, 2, 1, 2,\n",
       "        1, 1, 0, 1, 3, 1, 2, 0, 2, 2, 3, 0, 3, 2, 2, 3, 0, 1, 2, 1, 2, 2,\n",
       "        3, 1, 1, 3, 1, 3, 3, 1, 3, 0, 1, 1, 2, 1, 1, 3, 3, 0, 0, 1, 1, 3,\n",
       "        0, 3, 0, 1, 0, 2, 2, 1, 3, 0, 2, 0, 3, 1, 2, 1, 3, 2, 3, 3, 3, 3,\n",
       "        3, 3, 2, 3, 3, 0, 0, 2, 3, 1, 0, 1, 2, 1, 2, 0, 3, 0, 3, 1, 1, 0,\n",
       "        2, 2, 1, 2, 1, 3, 0, 2, 0, 3, 3, 3, 2, 2, 2, 0, 3, 2, 3, 1, 2, 1,\n",
       "        3, 3, 1, 2, 3, 1, 0, 3, 0, 0, 0, 0, 2, 1, 1, 3, 1, 3, 1, 2, 3, 2,\n",
       "        3, 2, 0, 2, 0, 0, 3, 1, 1, 0, 2, 3, 0, 0, 2, 1, 2, 0, 0, 0, 3, 1,\n",
       "        1, 1, 3, 2, 1, 1, 0, 3, 2, 1, 3, 0, 1, 2, 0, 2, 3, 2, 0, 1, 1, 1,\n",
       "        0, 3, 0, 2, 3, 2, 0, 0, 2, 0, 1, 0, 2, 0, 2, 3, 3, 3, 3, 2, 0, 2,\n",
       "        1, 2, 1, 3, 1, 3, 0, 3, 0, 1, 1, 3, 0, 1, 2, 0, 3, 1, 3, 2, 1, 0,\n",
       "        2, 0, 1, 2, 2, 1, 2, 1, 2, 1, 3, 2, 0, 3, 2, 1, 0, 0, 0, 1, 3, 1,\n",
       "        1, 0, 1, 2, 0, 1, 3, 3, 1, 3, 0, 1, 0, 3, 3, 3, 0, 1, 3, 3, 0, 0,\n",
       "        3, 1, 3, 2, 0, 1, 0, 1, 2, 2, 1, 1, 2, 3, 3, 3, 0, 1, 1, 3, 1, 2,\n",
       "        3, 1, 1, 1, 0, 0, 3, 0, 1, 1, 3, 3, 2, 1, 2, 0, 0, 0, 0, 0, 2, 2,\n",
       "        2, 2, 1, 1, 0, 2, 3, 1, 0, 0, 3, 3, 2, 3, 0, 1, 1, 0, 0, 3, 0, 0,\n",
       "        2, 0, 1, 0, 2, 3, 0, 1, 0, 1, 3, 3, 3, 2, 0, 1, 0, 3, 1, 2, 0, 1,\n",
       "        2, 3, 0, 2, 2, 1, 1, 0, 1, 3, 3, 1, 1, 1, 0, 2, 2, 1, 3, 1, 3, 0,\n",
       "        2, 1, 1, 0, 1, 1, 1, 0, 0, 1, 2, 3, 1, 0, 0, 1, 3, 3, 1, 3, 0, 0,\n",
       "        3, 0, 3, 0, 2, 2, 2, 0, 1, 3, 2, 3, 0, 3, 2, 0, 0, 2, 3, 2, 1, 2,\n",
       "        2, 2, 2, 3, 0, 1, 0, 0, 0, 3, 1, 2, 0, 0, 3, 3, 1, 1, 0, 2, 0, 3,\n",
       "        1, 2, 1, 3, 0, 2, 1, 2, 3, 2, 3, 2, 2, 1, 3, 3, 0, 0, 3, 0, 2, 1,\n",
       "        1, 0, 2, 0, 2, 0, 3, 2, 2, 3, 2, 1, 0, 0, 2, 2, 0, 0, 1, 2, 3, 3,\n",
       "        2, 3, 1, 0, 0, 3, 3, 0, 0, 2, 2, 1, 1, 3, 3, 1, 2, 0, 1, 2, 2, 1,\n",
       "        0, 0, 2, 2, 0, 2, 0, 0, 1, 2, 3, 0, 0, 0, 3, 1, 2, 1, 1, 0, 0, 2,\n",
       "        2, 1, 1, 0, 2, 0, 1, 1, 0, 3, 2, 0, 0, 0, 3, 2, 1, 3, 2, 2, 3, 0,\n",
       "        0, 2, 1, 1, 0, 0, 0, 2, 3, 0, 3, 1, 2, 0, 1, 1, 0, 2, 3, 2, 2, 3,\n",
       "        1, 0, 1, 0, 2, 2, 1, 3, 3, 1, 0, 2, 2, 2, 3, 3, 0, 0, 0, 1, 1, 3,\n",
       "        0, 1, 3, 2, 3, 0, 3, 0, 1, 1, 3, 3, 2, 2, 1, 3, 3, 3, 3, 3, 1, 0,\n",
       "        1, 3, 2, 1, 1, 1, 0, 1, 2, 2, 0, 2, 1, 3, 2, 1, 2, 2, 2, 0, 2, 2,\n",
       "        3, 0, 3, 2, 3, 0, 2, 3, 3, 1, 1, 1, 3, 0, 2, 1, 2, 0, 2, 1, 0, 1,\n",
       "        3, 0, 1, 2, 3, 2, 1, 0, 3, 1, 3, 3, 2, 0, 0, 1, 2, 3, 2, 2, 2, 1,\n",
       "        1, 1, 2, 0, 1, 3, 0, 0, 2, 0, 2, 2, 0, 0, 2, 1, 1, 3, 3, 3, 0, 0,\n",
       "        0, 1, 0, 1, 2, 0, 0, 0, 3, 3, 0, 1, 3, 2, 1, 2, 0, 1, 3, 0, 3, 3,\n",
       "        2, 2, 3, 1, 2, 0, 3, 1, 2, 0, 1, 2, 0, 3, 2, 0, 0, 2, 3, 1, 2, 2,\n",
       "        1, 2, 3, 2, 3, 1, 1, 3, 2, 3]))"
      ]
     },
     "execution_count": 7,
     "metadata": {},
     "output_type": "execute_result"
    }
   ],
   "source": [
    "make_blobs(n_samples=1000, n_features=5, centers=4, cluster_std=3, random_state=0)\n"
   ]
  },
  {
   "cell_type": "code",
   "execution_count": 8,
   "metadata": {},
   "outputs": [
    {
     "ename": "NameError",
     "evalue": "name 'seaborn' is not defined",
     "output_type": "error",
     "traceback": [
      "\u001b[1;31m---------------------------------------------------------------------------\u001b[0m",
      "\u001b[1;31mNameError\u001b[0m                                 Traceback (most recent call last)",
      "\u001b[1;32m<ipython-input-8-a5e7f46d2bc7>\u001b[0m in \u001b[0;36m<module>\u001b[1;34m\u001b[0m\n\u001b[1;32m----> 1\u001b[1;33m \u001b[0mseaborn\u001b[0m\u001b[1;33m.\u001b[0m\u001b[0mpairplot\u001b[0m\u001b[1;33m\u001b[0m\u001b[1;33m\u001b[0m\u001b[0m\n\u001b[0m",
      "\u001b[1;31mNameError\u001b[0m: name 'seaborn' is not defined"
     ]
    }
   ],
   "source": [
    "seaborn.pairplot\n"
   ]
  },
  {
   "cell_type": "code",
   "execution_count": 9,
   "metadata": {},
   "outputs": [
    {
     "ename": "NameError",
     "evalue": "name 'seaborn' is not defined",
     "output_type": "error",
     "traceback": [
      "\u001b[1;31m---------------------------------------------------------------------------\u001b[0m",
      "\u001b[1;31mNameError\u001b[0m                                 Traceback (most recent call last)",
      "\u001b[1;32m<ipython-input-9-a5e7f46d2bc7>\u001b[0m in \u001b[0;36m<module>\u001b[1;34m\u001b[0m\n\u001b[1;32m----> 1\u001b[1;33m \u001b[0mseaborn\u001b[0m\u001b[1;33m.\u001b[0m\u001b[0mpairplot\u001b[0m\u001b[1;33m\u001b[0m\u001b[1;33m\u001b[0m\u001b[0m\n\u001b[0m",
      "\u001b[1;31mNameError\u001b[0m: name 'seaborn' is not defined"
     ]
    }
   ],
   "source": [
    "seaborn.pairplot\n"
   ]
  },
  {
   "cell_type": "code",
   "execution_count": 10,
   "metadata": {},
   "outputs": [],
   "source": [
    "import seaborn\n"
   ]
  },
  {
   "cell_type": "code",
   "execution_count": 11,
   "metadata": {},
   "outputs": [
    {
     "data": {
      "text/plain": [
       "<function seaborn.axisgrid.pairplot(data, *, hue=None, hue_order=None, palette=None, vars=None, x_vars=None, y_vars=None, kind='scatter', diag_kind='auto', markers=None, height=2.5, aspect=1, corner=False, dropna=False, plot_kws=None, diag_kws=None, grid_kws=None, size=None)>"
      ]
     },
     "execution_count": 11,
     "metadata": {},
     "output_type": "execute_result"
    }
   ],
   "source": [
    "seaborn.pairplot\n"
   ]
  },
  {
   "cell_type": "code",
   "execution_count": 12,
   "metadata": {},
   "outputs": [],
   "source": [
    "hue=5"
   ]
  },
  {
   "cell_type": "code",
   "execution_count": 14,
   "metadata": {},
   "outputs": [
    {
     "ename": "TypeError",
     "evalue": "cannot unpack non-iterable int object",
     "output_type": "error",
     "traceback": [
      "\u001b[1;31m---------------------------------------------------------------------------\u001b[0m",
      "\u001b[1;31mTypeError\u001b[0m                                 Traceback (most recent call last)",
      "\u001b[1;32m<ipython-input-14-52ada16ca6de>\u001b[0m in \u001b[0;36m<module>\u001b[1;34m\u001b[0m\n\u001b[1;32m----> 1\u001b[1;33m \u001b[0mseaborn\u001b[0m\u001b[1;33m.\u001b[0m\u001b[0mpairplot\u001b[0m\u001b[1;33m,\u001b[0m \u001b[0mhue\u001b[0m \u001b[1;33m=\u001b[0m \u001b[1;36m5\u001b[0m\u001b[1;33m\u001b[0m\u001b[1;33m\u001b[0m\u001b[0m\n\u001b[0m",
      "\u001b[1;31mTypeError\u001b[0m: cannot unpack non-iterable int object"
     ]
    }
   ],
   "source": [
    "seaborn.pairplot, hue = 5\n"
   ]
  },
  {
   "cell_type": "code",
   "execution_count": null,
   "metadata": {},
   "outputs": [],
   "source": []
  }
 ],
 "metadata": {
  "kernelspec": {
   "display_name": "Python 3",
   "language": "python",
   "name": "python3"
  },
  "language_info": {
   "codemirror_mode": {
    "name": "ipython",
    "version": 3
   },
   "file_extension": ".py",
   "mimetype": "text/x-python",
   "name": "python",
   "nbconvert_exporter": "python",
   "pygments_lexer": "ipython3",
   "version": "3.8.5"
  }
 },
 "nbformat": 4,
 "nbformat_minor": 4
}
